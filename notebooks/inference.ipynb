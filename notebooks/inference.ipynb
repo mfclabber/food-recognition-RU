{
  "cells": [
    {
      "cell_type": "code",
      "execution_count": null,
      "metadata": {
        "colab": {
          "base_uri": "https://localhost:8080/"
        },
        "id": "8TlRDOtLSooi",
        "outputId": "4fc71e15-2456-463b-8fe7-ea32f7a3a4b1"
      },
      "outputs": [],
      "source": [
        "!pip install datasets"
      ]
    },
    {
      "cell_type": "code",
      "execution_count": null,
      "metadata": {
        "colab": {
          "base_uri": "https://localhost:8080/",
          "height": 178,
          "referenced_widgets": [
            "103171f7f25745c1883a711197ae3e8b",
            "f5ee60a7430d437b81bfeb2f44d35018",
            "8b7495b81d334626b006ba8e3e221f0e",
            "95e9b3b841a2417f943cb5163bdc2d1e",
            "7d5d731a7fc44f1580a6be223e20d76e",
            "4267cbabfb2b4741a9a9892c010450bd",
            "0c39fb2cbfc74d4ba46882f25b69026f",
            "c4a16a7250ba4a86a95ef2ea8f2f1c80",
            "6c747c5af8024436a7f1db00f780599f",
            "e9f4f80c0722422fba1e848fef86db5e",
            "48b983695ede4658aed6cfd2d0c89711"
          ]
        },
        "id": "zYkPWB-eSuGB",
        "outputId": "472ae725-aae8-419b-c630-201b6445225b"
      },
      "outputs": [],
      "source": [
        "from datasets import load_dataset\n",
        "\n",
        "dataset = load_dataset(\"mllab/alfafood\")"
      ]
    },
    {
      "cell_type": "code",
      "execution_count": null,
      "metadata": {
        "id": "z70538zISym7"
      },
      "outputs": [],
      "source": [
        "import os\n",
        "import cv2\n",
        "import random\n",
        "import pathlib\n",
        "import numpy as np\n",
        "import pandas as pd\n",
        "from tqdm.auto import tqdm\n",
        "import matplotlib.pyplot as plt\n",
        "from typing import Tuple, Dict, List\n",
        "\n",
        "import torch\n",
        "import torchvision\n",
        "from torchvision import transforms, datasets\n",
        "from torch.utils.data import Dataset, DataLoader\n",
        "from torchvision.models.detection.faster_rcnn import FastRCNNPredictor\n",
        "\n",
        "from sklearn.model_selection import train_test_split\n",
        "\n",
        "import albumentations\n",
        "from albumentations.pytorch.transforms import ToTensorV2\n",
        "\n",
        "from PIL import Image, ImageFile, ImageFont, ImageDraw, ImageEnhance\n",
        "ImageFile.LOAD_TRUNCATED_IMAGES = True\n",
        "\n",
        "import copy\n",
        "from time import time\n",
        "\n",
        "import warnings\n",
        "warnings.filterwarnings('ignore')\n",
        "\n",
        "FUSED_SHAPE = (640, 480)\n",
        "ORIGINAL_SHAPE = (4000, 3000)\n",
        "\n",
        "device = torch.device(\"cuda\" if torch.cuda.is_available() else \"cpu\")"
      ]
    },
    {
      "cell_type": "code",
      "execution_count": null,
      "metadata": {
        "id": "c1_-eGupS0Vb"
      },
      "outputs": [],
      "source": [
        "def fused_bbox(bboxes, original_shape, fused_shape):\n",
        "\n",
        "    x_fused = fused_shape[0] / original_shape[0]\n",
        "    y_fused = fused_shape[1] / original_shape[1]\n",
        "\n",
        "    for i in range(len(bboxes)):\n",
        "        bboxes[i][0] = bboxes[i][0] * x_fused\n",
        "        bboxes[i][1] = bboxes[i][1] * y_fused\n",
        "        bboxes[i][2] = bboxes[i][2] * x_fused\n",
        "        bboxes[i][3] = bboxes[i][3] * y_fused\n",
        "\n",
        "    return bboxes"
      ]
    },
    {
      "cell_type": "code",
      "execution_count": null,
      "metadata": {
        "id": "C7h0NGU6S39c"
      },
      "outputs": [],
      "source": [
        "images = [dataset['train'][i]['image'].resize(FUSED_SHAPE) for i in range(len(dataset['train']))]\n",
        "objects = [dataset['train'][i]['objects'] for i in range(len(dataset['train']))]\n",
        "\n",
        "for i in range(len(objects)):\n",
        "    if objects[i]['bbox'] != []:\n",
        "        objects[i]['bbox'] = fused_bbox(objects[i]['bbox'], dataset['train'][i]['image'].size, FUSED_SHAPE)"
      ]
    },
    {
      "cell_type": "code",
      "execution_count": null,
      "metadata": {
        "id": "ULc1ZTIVVrnB"
      },
      "outputs": [],
      "source": [
        "test_transform = albumentations.Compose(\n",
        "    [\n",
        "        # albumentations.Resize(height=FUSED_SHAPE[1], width=FUSED_SHAPE[0]),\n",
        "        albumentations.pytorch.transforms.ToTensorV2()\n",
        "    ],\n",
        "    bbox_params=albumentations.BboxParams(format='pascal_voc', label_fields=['labels'])\n",
        ")"
      ]
    },
    {
      "cell_type": "code",
      "execution_count": null,
      "metadata": {
        "id": "a4S8zksmVnV7"
      },
      "outputs": [],
      "source": [
        "class AlfaFoodDataset(Dataset):\n",
        "    def __init__(self, images: List, objects: List[Dict[str, List]], transform: torchvision.transforms=None) -> None:\n",
        "        super().__init__()\n",
        "        self.images = images\n",
        "        self.annotations = copy.deepcopy(objects)\n",
        "        self.transform = transform\n",
        "        self.num_classes = len(set(i for ob in objects for i in ob['categories']))\n",
        "\n",
        "        for i in range(len(self.annotations)):\n",
        "            self.bboxes = self.annotations[i]['bbox']\n",
        "            for bbox in self.bboxes:\n",
        "                bbox[2] += bbox[0]\n",
        "                bbox[3] += bbox[1]\n",
        "\n",
        "\n",
        "    def __getitem__(self, index: int) -> Tuple[torch.Tensor, Tuple[Tuple[int]], Tuple[int]]:\n",
        "        \"Returns one sample of data: image, labels, bboxes\"\n",
        "\n",
        "        image = np.array(self.images[index].convert('RGB'))\n",
        "        bboxes = self.annotations[index]['bbox']\n",
        "        labels = self.annotations[index]['categories']\n",
        "\n",
        "        if self.transform:\n",
        "            transformed = self.transform(image = image, bboxes = bboxes, labels = labels)\n",
        "            image = np.array(transformed['image']).transpose(1, 2, 0)\n",
        "            bboxes = transformed['bboxes']\n",
        "            labels = transformed['labels']\n",
        "\n",
        "        image = image.transpose(2, 0, 1)\n",
        "        target = dict()\n",
        "        target['boxes'] = torch.as_tensor(bboxes, dtype=torch.float)\n",
        "        target['labels'] = torch.as_tensor(labels, dtype=torch.int64)\n",
        "\n",
        "        if target['boxes'].shape == torch.Size([0]):\n",
        "            target['boxes'] = torch.Tensor([0, 0, 1e-10, 1e-10]).unsqueeze(dim=0)\n",
        "        if target['labels'].shape == torch.Size([0]):\n",
        "            target['labels']= torch.zeros(size=(1, ), dtype=torch.int64)\n",
        "        return image, target\n",
        "\n",
        "\n",
        "    def __len__(self) -> int:\n",
        "        \"Returns the total number of samples.\"\n",
        "        return len(self.images)"
      ]
    },
    {
      "cell_type": "code",
      "execution_count": null,
      "metadata": {
        "id": "4aNQmrdrV2nd"
      },
      "outputs": [],
      "source": [
        "data = AlfaFoodDataset(images=images,\n",
        "                       objects=objects,\n",
        "                       transform=None)"
      ]
    },
    {
      "cell_type": "code",
      "execution_count": null,
      "metadata": {
        "id": "8HBaxpfUZNm6"
      },
      "outputs": [],
      "source": [
        "class FasterRCNN_ResNet50(torch.nn.Module):\n",
        "  def __init__(self, num_classes: int=127) -> None:\n",
        "    super().__init__()\n",
        "\n",
        "    self.model = torchvision.models.detection.fasterrcnn_resnet50_fpn(pretrained=True, pretrained_backbone=True)\n",
        "    num_classes = num_classes + 2\n",
        "    in_features = self.model.roi_heads.box_predictor.cls_score.in_features\n",
        "    self.model.roi_heads.box_predictor = FastRCNNPredictor(in_features, num_classes)\n",
        "\n",
        "    for child in list(self.model.children())[:-1]:\n",
        "      for param in child.parameters():\n",
        "          param.requires_grad = False\n",
        "\n",
        "  def predict(self, X: torch.Tensor) -> torch.Tensor:\n",
        "    '''\n",
        "    For predict bboxes and labels\n",
        "    '''\n",
        "    return self.model(X)\n",
        "\n",
        "  # To calculate the loss function\n",
        "  def forward(self, images: List[torch.Tensor], annotation: List[Dict[str, torch.Tensor]]) -> Dict[str, int]:\n",
        "    return self.model(images, annotation)\n",
        "\n",
        "model = FasterRCNN_ResNet50(num_classes=data.num_classes)"
      ]
    },
    {
      "cell_type": "code",
      "execution_count": null,
      "metadata": {
        "colab": {
          "base_uri": "https://localhost:8080/"
        },
        "id": "BbBuaQulZiUH",
        "outputId": "aa78b6d0-b293-43de-8ee6-e7b727a0226a"
      },
      "outputs": [],
      "source": [
        "import pathlib\n",
        "\n",
        "path_to_weights_model = pathlib.Path(\"/content/best_model (2).pth\")\n",
        "\n",
        "model.load_state_dict(torch.load(path_to_weights_model, map_location=torch.device('cpu')))"
      ]
    },
    {
      "cell_type": "code",
      "execution_count": null,
      "metadata": {
        "colab": {
          "base_uri": "https://localhost:8080/",
          "height": 515
        },
        "id": "V0M0Ww2DZTHP",
        "outputId": "4d971425-2a27-4860-f877-f149fcdbf25f"
      },
      "outputs": [],
      "source": [
        "import random\n",
        "\n",
        "def show_image_with_objects(image, bboxes, labels=None):\n",
        "\n",
        "    image = Image.fromarray(image.transpose(1, 2, 0))\n",
        "\n",
        "    color = list((random.randint(40, 240), random.randint(40, 255), random.randint(60, 255)) for i in range(100))\n",
        "\n",
        "    random.shuffle(color)\n",
        "\n",
        "    # if bboxes.shape\n",
        "    for i in range(len(bboxes)):\n",
        "        draw = ImageDraw.Draw(image)\n",
        "        draw.rectangle(bboxes[i].numpy(), outline = color[i], width=2)\n",
        "\n",
        "        bbox = draw.textbbox((bboxes[i][0], bboxes[i][1]), f\"{labels[i]}\")\n",
        "        draw.rectangle((bbox[0]-2, bbox[1]-2, bbox[2]+2, bbox[3]+2), fill=(30, 20, 20))\n",
        "        draw.text((bboxes[i][0], bboxes[i][1]), f\"{labels[i]}\", color[i])\n",
        "    return image\n",
        "\n",
        "image, target = random.choice(data)\n",
        "# bb = random.choice(dataset['train'])\n",
        "print(image.shape)\n",
        "show_image_with_objects(image, target['boxes'], target['labels'])"
      ]
    },
    {
      "cell_type": "code",
      "execution_count": null,
      "metadata": {
        "id": "Tn0-wFm61ur9"
      },
      "outputs": [],
      "source": [
        "with torch.no_grad():\n",
        "  model.eval()\n",
        "  outputs = model.predict(torch.Tensor(image).unsqueeze(dim=0))"
      ]
    },
    {
      "cell_type": "code",
      "execution_count": null,
      "metadata": {
        "colab": {
          "base_uri": "https://localhost:8080/"
        },
        "id": "fIp5dAWJ2DbZ",
        "outputId": "e836955e-863e-44d5-efc7-43c1613a3c70"
      },
      "outputs": [],
      "source": [
        "outputs"
      ]
    },
    {
      "cell_type": "code",
      "execution_count": null,
      "metadata": {
        "colab": {
          "base_uri": "https://localhost:8080/",
          "height": 497
        },
        "id": "tg3JB89C2MCN",
        "outputId": "f7376d0e-d16a-4189-e6b3-43099f12d91c"
      },
      "outputs": [],
      "source": [
        "show_image_with_objects(image, outputs[0]['boxes'], outputs[0]['labels'])"
      ]
    }
  ],
  "metadata": {
    "colab": {
      "provenance": []
    },
    "kernelspec": {
      "display_name": "Python 3",
      "name": "python3"
    },
    "language_info": {
      "name": "python"
    },
    "widgets": {
      "application/vnd.jupyter.widget-state+json": {
        "0c39fb2cbfc74d4ba46882f25b69026f": {
          "model_module": "@jupyter-widgets/controls",
          "model_module_version": "1.5.0",
          "model_name": "DescriptionStyleModel",
          "state": {
            "_model_module": "@jupyter-widgets/controls",
            "_model_module_version": "1.5.0",
            "_model_name": "DescriptionStyleModel",
            "_view_count": null,
            "_view_module": "@jupyter-widgets/base",
            "_view_module_version": "1.2.0",
            "_view_name": "StyleView",
            "description_width": ""
          }
        },
        "103171f7f25745c1883a711197ae3e8b": {
          "model_module": "@jupyter-widgets/controls",
          "model_module_version": "1.5.0",
          "model_name": "HBoxModel",
          "state": {
            "_dom_classes": [],
            "_model_module": "@jupyter-widgets/controls",
            "_model_module_version": "1.5.0",
            "_model_name": "HBoxModel",
            "_view_count": null,
            "_view_module": "@jupyter-widgets/controls",
            "_view_module_version": "1.5.0",
            "_view_name": "HBoxView",
            "box_style": "",
            "children": [
              "IPY_MODEL_f5ee60a7430d437b81bfeb2f44d35018",
              "IPY_MODEL_8b7495b81d334626b006ba8e3e221f0e",
              "IPY_MODEL_95e9b3b841a2417f943cb5163bdc2d1e"
            ],
            "layout": "IPY_MODEL_7d5d731a7fc44f1580a6be223e20d76e"
          }
        },
        "4267cbabfb2b4741a9a9892c010450bd": {
          "model_module": "@jupyter-widgets/base",
          "model_module_version": "1.2.0",
          "model_name": "LayoutModel",
          "state": {
            "_model_module": "@jupyter-widgets/base",
            "_model_module_version": "1.2.0",
            "_model_name": "LayoutModel",
            "_view_count": null,
            "_view_module": "@jupyter-widgets/base",
            "_view_module_version": "1.2.0",
            "_view_name": "LayoutView",
            "align_content": null,
            "align_items": null,
            "align_self": null,
            "border": null,
            "bottom": null,
            "display": null,
            "flex": null,
            "flex_flow": null,
            "grid_area": null,
            "grid_auto_columns": null,
            "grid_auto_flow": null,
            "grid_auto_rows": null,
            "grid_column": null,
            "grid_gap": null,
            "grid_row": null,
            "grid_template_areas": null,
            "grid_template_columns": null,
            "grid_template_rows": null,
            "height": null,
            "justify_content": null,
            "justify_items": null,
            "left": null,
            "margin": null,
            "max_height": null,
            "max_width": null,
            "min_height": null,
            "min_width": null,
            "object_fit": null,
            "object_position": null,
            "order": null,
            "overflow": null,
            "overflow_x": null,
            "overflow_y": null,
            "padding": null,
            "right": null,
            "top": null,
            "visibility": null,
            "width": null
          }
        },
        "48b983695ede4658aed6cfd2d0c89711": {
          "model_module": "@jupyter-widgets/controls",
          "model_module_version": "1.5.0",
          "model_name": "DescriptionStyleModel",
          "state": {
            "_model_module": "@jupyter-widgets/controls",
            "_model_module_version": "1.5.0",
            "_model_name": "DescriptionStyleModel",
            "_view_count": null,
            "_view_module": "@jupyter-widgets/base",
            "_view_module_version": "1.2.0",
            "_view_name": "StyleView",
            "description_width": ""
          }
        },
        "6c747c5af8024436a7f1db00f780599f": {
          "model_module": "@jupyter-widgets/controls",
          "model_module_version": "1.5.0",
          "model_name": "ProgressStyleModel",
          "state": {
            "_model_module": "@jupyter-widgets/controls",
            "_model_module_version": "1.5.0",
            "_model_name": "ProgressStyleModel",
            "_view_count": null,
            "_view_module": "@jupyter-widgets/base",
            "_view_module_version": "1.2.0",
            "_view_name": "StyleView",
            "bar_color": null,
            "description_width": ""
          }
        },
        "7d5d731a7fc44f1580a6be223e20d76e": {
          "model_module": "@jupyter-widgets/base",
          "model_module_version": "1.2.0",
          "model_name": "LayoutModel",
          "state": {
            "_model_module": "@jupyter-widgets/base",
            "_model_module_version": "1.2.0",
            "_model_name": "LayoutModel",
            "_view_count": null,
            "_view_module": "@jupyter-widgets/base",
            "_view_module_version": "1.2.0",
            "_view_name": "LayoutView",
            "align_content": null,
            "align_items": null,
            "align_self": null,
            "border": null,
            "bottom": null,
            "display": null,
            "flex": null,
            "flex_flow": null,
            "grid_area": null,
            "grid_auto_columns": null,
            "grid_auto_flow": null,
            "grid_auto_rows": null,
            "grid_column": null,
            "grid_gap": null,
            "grid_row": null,
            "grid_template_areas": null,
            "grid_template_columns": null,
            "grid_template_rows": null,
            "height": null,
            "justify_content": null,
            "justify_items": null,
            "left": null,
            "margin": null,
            "max_height": null,
            "max_width": null,
            "min_height": null,
            "min_width": null,
            "object_fit": null,
            "object_position": null,
            "order": null,
            "overflow": null,
            "overflow_x": null,
            "overflow_y": null,
            "padding": null,
            "right": null,
            "top": null,
            "visibility": null,
            "width": null
          }
        },
        "8b7495b81d334626b006ba8e3e221f0e": {
          "model_module": "@jupyter-widgets/controls",
          "model_module_version": "1.5.0",
          "model_name": "FloatProgressModel",
          "state": {
            "_dom_classes": [],
            "_model_module": "@jupyter-widgets/controls",
            "_model_module_version": "1.5.0",
            "_model_name": "FloatProgressModel",
            "_view_count": null,
            "_view_module": "@jupyter-widgets/controls",
            "_view_module_version": "1.5.0",
            "_view_name": "ProgressView",
            "bar_style": "success",
            "description": "",
            "description_tooltip": null,
            "layout": "IPY_MODEL_c4a16a7250ba4a86a95ef2ea8f2f1c80",
            "max": 30,
            "min": 0,
            "orientation": "horizontal",
            "style": "IPY_MODEL_6c747c5af8024436a7f1db00f780599f",
            "value": 30
          }
        },
        "95e9b3b841a2417f943cb5163bdc2d1e": {
          "model_module": "@jupyter-widgets/controls",
          "model_module_version": "1.5.0",
          "model_name": "HTMLModel",
          "state": {
            "_dom_classes": [],
            "_model_module": "@jupyter-widgets/controls",
            "_model_module_version": "1.5.0",
            "_model_name": "HTMLModel",
            "_view_count": null,
            "_view_module": "@jupyter-widgets/controls",
            "_view_module_version": "1.5.0",
            "_view_name": "HTMLView",
            "description": "",
            "description_tooltip": null,
            "layout": "IPY_MODEL_e9f4f80c0722422fba1e848fef86db5e",
            "placeholder": "​",
            "style": "IPY_MODEL_48b983695ede4658aed6cfd2d0c89711",
            "value": " 30/30 [00:00&lt;00:00, 358.16it/s]"
          }
        },
        "c4a16a7250ba4a86a95ef2ea8f2f1c80": {
          "model_module": "@jupyter-widgets/base",
          "model_module_version": "1.2.0",
          "model_name": "LayoutModel",
          "state": {
            "_model_module": "@jupyter-widgets/base",
            "_model_module_version": "1.2.0",
            "_model_name": "LayoutModel",
            "_view_count": null,
            "_view_module": "@jupyter-widgets/base",
            "_view_module_version": "1.2.0",
            "_view_name": "LayoutView",
            "align_content": null,
            "align_items": null,
            "align_self": null,
            "border": null,
            "bottom": null,
            "display": null,
            "flex": null,
            "flex_flow": null,
            "grid_area": null,
            "grid_auto_columns": null,
            "grid_auto_flow": null,
            "grid_auto_rows": null,
            "grid_column": null,
            "grid_gap": null,
            "grid_row": null,
            "grid_template_areas": null,
            "grid_template_columns": null,
            "grid_template_rows": null,
            "height": null,
            "justify_content": null,
            "justify_items": null,
            "left": null,
            "margin": null,
            "max_height": null,
            "max_width": null,
            "min_height": null,
            "min_width": null,
            "object_fit": null,
            "object_position": null,
            "order": null,
            "overflow": null,
            "overflow_x": null,
            "overflow_y": null,
            "padding": null,
            "right": null,
            "top": null,
            "visibility": null,
            "width": null
          }
        },
        "e9f4f80c0722422fba1e848fef86db5e": {
          "model_module": "@jupyter-widgets/base",
          "model_module_version": "1.2.0",
          "model_name": "LayoutModel",
          "state": {
            "_model_module": "@jupyter-widgets/base",
            "_model_module_version": "1.2.0",
            "_model_name": "LayoutModel",
            "_view_count": null,
            "_view_module": "@jupyter-widgets/base",
            "_view_module_version": "1.2.0",
            "_view_name": "LayoutView",
            "align_content": null,
            "align_items": null,
            "align_self": null,
            "border": null,
            "bottom": null,
            "display": null,
            "flex": null,
            "flex_flow": null,
            "grid_area": null,
            "grid_auto_columns": null,
            "grid_auto_flow": null,
            "grid_auto_rows": null,
            "grid_column": null,
            "grid_gap": null,
            "grid_row": null,
            "grid_template_areas": null,
            "grid_template_columns": null,
            "grid_template_rows": null,
            "height": null,
            "justify_content": null,
            "justify_items": null,
            "left": null,
            "margin": null,
            "max_height": null,
            "max_width": null,
            "min_height": null,
            "min_width": null,
            "object_fit": null,
            "object_position": null,
            "order": null,
            "overflow": null,
            "overflow_x": null,
            "overflow_y": null,
            "padding": null,
            "right": null,
            "top": null,
            "visibility": null,
            "width": null
          }
        },
        "f5ee60a7430d437b81bfeb2f44d35018": {
          "model_module": "@jupyter-widgets/controls",
          "model_module_version": "1.5.0",
          "model_name": "HTMLModel",
          "state": {
            "_dom_classes": [],
            "_model_module": "@jupyter-widgets/controls",
            "_model_module_version": "1.5.0",
            "_model_name": "HTMLModel",
            "_view_count": null,
            "_view_module": "@jupyter-widgets/controls",
            "_view_module_version": "1.5.0",
            "_view_name": "HTMLView",
            "description": "",
            "description_tooltip": null,
            "layout": "IPY_MODEL_4267cbabfb2b4741a9a9892c010450bd",
            "placeholder": "​",
            "style": "IPY_MODEL_0c39fb2cbfc74d4ba46882f25b69026f",
            "value": "Resolving data files: 100%"
          }
        }
      }
    }
  },
  "nbformat": 4,
  "nbformat_minor": 0
}
